{
  "nbformat": 4,
  "nbformat_minor": 0,
  "metadata": {
    "colab": {
      "provenance": []
    },
    "kernelspec": {
      "name": "python3",
      "display_name": "Python 3"
    },
    "language_info": {
      "name": "python"
    }
  },
  "cells": [
    {
      "cell_type": "markdown",
      "source": [
        "# PRACTICAL QUESTIONS\n",
        "\n"
      ],
      "metadata": {
        "id": "3gj8vwtvSPBJ"
      }
    },
    {
      "cell_type": "markdown",
      "source": [
        "1. question no. 1\n",
        "\n",
        "\n"
      ],
      "metadata": {
        "id": "44fRS7G9SghL"
      }
    },
    {
      "cell_type": "code",
      "source": [
        " name=(\"aditya thapa\")\n",
        " print(name)"
      ],
      "metadata": {
        "colab": {
          "base_uri": "https://localhost:8080/"
        },
        "id": "TeDHmJCcS9y7",
        "outputId": "f6dbb083-db70-4bfe-fdec-e2b035fe7aa7"
      },
      "execution_count": null,
      "outputs": [
        {
          "output_type": "stream",
          "name": "stdout",
          "text": [
            "aditya thapa\n"
          ]
        }
      ]
    },
    {
      "cell_type": "markdown",
      "source": [
        " 2. question no. 2"
      ],
      "metadata": {
        "id": "6L58jZCGTfNh"
      }
    },
    {
      "cell_type": "code",
      "source": [
        "str1=(\"hello world\")\n",
        "len(str1)"
      ],
      "metadata": {
        "colab": {
          "base_uri": "https://localhost:8080/"
        },
        "id": "AMBZXDwHS1YK",
        "outputId": "76173169-5bb8-4162-eb56-d21148079428"
      },
      "execution_count": null,
      "outputs": [
        {
          "output_type": "execute_result",
          "data": {
            "text/plain": [
              "11"
            ]
          },
          "metadata": {},
          "execution_count": 4
        }
      ]
    },
    {
      "cell_type": "markdown",
      "source": [
        "3. question no. 3"
      ],
      "metadata": {
        "id": "ZQ2cnm4pT5m2"
      }
    },
    {
      "cell_type": "code",
      "source": [
        "str1=\"python programming\"\n",
        "print(str1[3:])"
      ],
      "metadata": {
        "colab": {
          "base_uri": "https://localhost:8080/"
        },
        "id": "6ERthujqT9yi",
        "outputId": "2d6224b3-eb4b-4102-e321-0da5e6eb01ec"
      },
      "execution_count": null,
      "outputs": [
        {
          "output_type": "stream",
          "name": "stdout",
          "text": [
            "hon programming\n"
          ]
        }
      ]
    },
    {
      "cell_type": "markdown",
      "source": [
        "4. question no. 4"
      ],
      "metadata": {
        "id": "SSLxzJr-2fDk"
      }
    },
    {
      "cell_type": "code",
      "source": [
        "x=\"hello\"\n",
        "print(x.upper())"
      ],
      "metadata": {
        "colab": {
          "base_uri": "https://localhost:8080/"
        },
        "id": "hxukLtCW2j7L",
        "outputId": "1294f5e9-f032-4b7e-c82c-39e5244afb0e"
      },
      "execution_count": null,
      "outputs": [
        {
          "output_type": "stream",
          "name": "stdout",
          "text": [
            "HELLO\n"
          ]
        }
      ]
    },
    {
      "cell_type": "markdown",
      "source": [
        "5.question no. 5"
      ],
      "metadata": {
        "id": "mBTv9ghS3UmT"
      }
    },
    {
      "cell_type": "code",
      "source": [
        "x=\"i like apple\"\n",
        "print(x.replace(\"apple\",\"banana\"))"
      ],
      "metadata": {
        "colab": {
          "base_uri": "https://localhost:8080/"
        },
        "id": "TcVEGgwh3XnT",
        "outputId": "59fb3c40-ba17-4193-9ad1-f1037e7c60c0"
      },
      "execution_count": null,
      "outputs": [
        {
          "output_type": "stream",
          "name": "stdout",
          "text": [
            "i like banana\n"
          ]
        }
      ]
    },
    {
      "cell_type": "markdown",
      "source": [
        "6. question no. 6"
      ],
      "metadata": {
        "id": "kCmjHxKc3yRs"
      }
    },
    {
      "cell_type": "code",
      "source": [
        "list=[1,2,3,4,5]\n",
        "print(list)"
      ],
      "metadata": {
        "colab": {
          "base_uri": "https://localhost:8080/"
        },
        "id": "OLo8SyHw31WT",
        "outputId": "7335179c-4da5-4371-c8da-e9eb47a66e55"
      },
      "execution_count": null,
      "outputs": [
        {
          "output_type": "stream",
          "name": "stdout",
          "text": [
            "[1, 2, 3, 4, 5]\n"
          ]
        }
      ]
    },
    {
      "cell_type": "markdown",
      "source": [
        "7. question no. 7"
      ],
      "metadata": {
        "id": "bZoxRJ4e4GNY"
      }
    },
    {
      "cell_type": "code",
      "source": [
        "list1=[1,2,3,4]\n",
        "list1.append(10)\n",
        "print(list1)"
      ],
      "metadata": {
        "colab": {
          "base_uri": "https://localhost:8080/"
        },
        "id": "h__dFT274OhM",
        "outputId": "b734c25d-efdf-4295-f6dc-876150ca844c"
      },
      "execution_count": null,
      "outputs": [
        {
          "output_type": "stream",
          "name": "stdout",
          "text": [
            "[1, 2, 3, 4, 10]\n"
          ]
        }
      ]
    },
    {
      "cell_type": "markdown",
      "source": [
        "8. question no. 8"
      ],
      "metadata": {
        "id": "sE7u7ch54oyN"
      }
    },
    {
      "cell_type": "code",
      "source": [
        "list2=[1,2,3,4,5]\n",
        "list2.remove(3)\n",
        "print(list2)"
      ],
      "metadata": {
        "colab": {
          "base_uri": "https://localhost:8080/"
        },
        "id": "y6Uys2Ro4rce",
        "outputId": "dfa26803-2af6-47ec-e481-9929b36dbf9e"
      },
      "execution_count": null,
      "outputs": [
        {
          "output_type": "stream",
          "name": "stdout",
          "text": [
            "[1, 2, 4, 5]\n"
          ]
        }
      ]
    },
    {
      "cell_type": "markdown",
      "source": [
        "9. question no.9"
      ],
      "metadata": {
        "id": "lecFV_y348Ww"
      }
    },
    {
      "cell_type": "code",
      "source": [
        "list3=['a','b','c','d']\n",
        "list3[1]"
      ],
      "metadata": {
        "colab": {
          "base_uri": "https://localhost:8080/",
          "height": 36
        },
        "id": "bRln0NCC5Ox-",
        "outputId": "adf1e167-e4b3-44cd-d397-8b3b5156b35d"
      },
      "execution_count": null,
      "outputs": [
        {
          "output_type": "execute_result",
          "data": {
            "text/plain": [
              "'b'"
            ],
            "application/vnd.google.colaboratory.intrinsic+json": {
              "type": "string"
            }
          },
          "metadata": {},
          "execution_count": 19
        }
      ]
    },
    {
      "cell_type": "markdown",
      "source": [
        "10. question no. 10"
      ],
      "metadata": {
        "id": "t-Rvl0Lx6WeK"
      }
    },
    {
      "cell_type": "code",
      "source": [
        "list4=[10,20,30,40,50]\n",
        "list4.reverse()\n",
        "print(list4)"
      ],
      "metadata": {
        "colab": {
          "base_uri": "https://localhost:8080/"
        },
        "id": "bmzNKOWd6afa",
        "outputId": "52acebe1-285c-4531-acb4-089c74d19614"
      },
      "execution_count": null,
      "outputs": [
        {
          "output_type": "stream",
          "name": "stdout",
          "text": [
            "[50, 40, 30, 20, 10]\n"
          ]
        }
      ]
    },
    {
      "cell_type": "markdown",
      "source": [
        "11. question no 11"
      ],
      "metadata": {
        "id": "KVhG9K6j6oQE"
      }
    },
    {
      "cell_type": "code",
      "source": [
        "tupple=(100,200,300)\n",
        "print(tupple)"
      ],
      "metadata": {
        "colab": {
          "base_uri": "https://localhost:8080/"
        },
        "id": "9zfsx0_J6unx",
        "outputId": "60a89e1d-42c0-4c21-c6d9-1c3a5368d5e3"
      },
      "execution_count": null,
      "outputs": [
        {
          "output_type": "stream",
          "name": "stdout",
          "text": [
            "(100, 200, 300)\n"
          ]
        }
      ]
    },
    {
      "cell_type": "markdown",
      "source": [
        "12. question no. 12"
      ],
      "metadata": {
        "id": "NjIiwhlJ747i"
      }
    },
    {
      "cell_type": "code",
      "source": [
        "tupple1=('red','green','blue','yellow')\n",
        "tupple1[2]"
      ],
      "metadata": {
        "colab": {
          "base_uri": "https://localhost:8080/",
          "height": 36
        },
        "id": "unK-yzLk8AM7",
        "outputId": "b76ae9b1-90f7-4b96-f583-727b537adbda"
      },
      "execution_count": null,
      "outputs": [
        {
          "output_type": "execute_result",
          "data": {
            "text/plain": [
              "'blue'"
            ],
            "application/vnd.google.colaboratory.intrinsic+json": {
              "type": "string"
            }
          },
          "metadata": {},
          "execution_count": 24
        }
      ]
    },
    {
      "cell_type": "markdown",
      "source": [
        "13. question no 13"
      ],
      "metadata": {
        "id": "2k2fY_nD9P5b"
      }
    },
    {
      "cell_type": "code",
      "source": [
        "tupple2=(10,20,5,15)\n",
        "min(tupple2)\n"
      ],
      "metadata": {
        "colab": {
          "base_uri": "https://localhost:8080/"
        },
        "id": "GdzDWO5b9r8L",
        "outputId": "67155f21-e808-41bd-d6ec-28771090992e"
      },
      "execution_count": null,
      "outputs": [
        {
          "output_type": "execute_result",
          "data": {
            "text/plain": [
              "5"
            ]
          },
          "metadata": {},
          "execution_count": 26
        }
      ]
    },
    {
      "cell_type": "markdown",
      "source": [
        "14. question no. 14"
      ],
      "metadata": {
        "id": "vyRDG90_-ZOs"
      }
    },
    {
      "cell_type": "code",
      "source": [
        "tuple3=('dog','cat','horse')\n",
        "tuple3.index('cat')"
      ],
      "metadata": {
        "colab": {
          "base_uri": "https://localhost:8080/"
        },
        "id": "VZENf1Xm-c5b",
        "outputId": "d76941d2-ec5f-4e80-d999-ecd56bfb2cff"
      },
      "execution_count": null,
      "outputs": [
        {
          "output_type": "execute_result",
          "data": {
            "text/plain": [
              "1"
            ]
          },
          "metadata": {},
          "execution_count": 27
        }
      ]
    },
    {
      "cell_type": "markdown",
      "source": [
        "15. question no. 15\n"
      ],
      "metadata": {
        "id": "bVpJUnLlrKM5"
      }
    },
    {
      "cell_type": "code",
      "source": [
        "tuple4=('mango','kiwi','apple')\n",
        "tuple4.count('kiwi')"
      ],
      "metadata": {
        "colab": {
          "base_uri": "https://localhost:8080/"
        },
        "id": "8YMV39sZrgp2",
        "outputId": "c646d43a-4b03-42c7-a6aa-99ec77c854bd"
      },
      "execution_count": null,
      "outputs": [
        {
          "output_type": "execute_result",
          "data": {
            "text/plain": [
              "1"
            ]
          },
          "metadata": {},
          "execution_count": 4
        }
      ]
    },
    {
      "cell_type": "markdown",
      "source": [
        "16. question no. 16"
      ],
      "metadata": {
        "id": "20hhVaeRshyd"
      }
    },
    {
      "cell_type": "code",
      "source": [
        "set={'a','b','c'}\n",
        "print(set)"
      ],
      "metadata": {
        "colab": {
          "base_uri": "https://localhost:8080/"
        },
        "id": "VJruli9Zskw0",
        "outputId": "28994a7e-56c4-42be-8782-984ba39b33f2"
      },
      "execution_count": null,
      "outputs": [
        {
          "output_type": "stream",
          "name": "stdout",
          "text": [
            "{'a', 'b', 'c'}\n"
          ]
        }
      ]
    },
    {
      "cell_type": "markdown",
      "source": [
        "17. question no. 17"
      ],
      "metadata": {
        "id": "GV1mBNsesy8F"
      }
    },
    {
      "cell_type": "code",
      "source": [
        "set={1,2,3,4,5}\n",
        "set.clear()\n",
        "print(set)\n",
        "\n",
        "\n"
      ],
      "metadata": {
        "colab": {
          "base_uri": "https://localhost:8080/"
        },
        "id": "Uo6zSgvDs20B",
        "outputId": "c098019d-b52c-44ac-aeaf-12d9dfcd2fc3"
      },
      "execution_count": null,
      "outputs": [
        {
          "output_type": "stream",
          "name": "stdout",
          "text": [
            "set()\n"
          ]
        }
      ]
    },
    {
      "cell_type": "markdown",
      "source": [
        "18. question no. 18\n"
      ],
      "metadata": {
        "id": "tr4sGLYcuACP"
      }
    },
    {
      "cell_type": "code",
      "source": [
        "set={1,2,3,4}\n",
        "set.remove(4)\n",
        "print(set)"
      ],
      "metadata": {
        "colab": {
          "base_uri": "https://localhost:8080/"
        },
        "id": "YAEs7gURuEIJ",
        "outputId": "200546d2-451b-4b0e-de57-d04f2e045e1e"
      },
      "execution_count": null,
      "outputs": [
        {
          "output_type": "stream",
          "name": "stdout",
          "text": [
            "{1, 2, 3}\n"
          ]
        }
      ]
    },
    {
      "cell_type": "markdown",
      "source": [
        "19. question no. 19"
      ],
      "metadata": {
        "id": "MDgVvWCHvFKN"
      }
    },
    {
      "cell_type": "code",
      "source": [
        "set={1,2,3}\n",
        "set1={3,4,5}\n",
        "set.union(set1)"
      ],
      "metadata": {
        "colab": {
          "base_uri": "https://localhost:8080/"
        },
        "id": "mezXlmkzvItv",
        "outputId": "86b46ec6-6380-4e81-8243-f48ce7970284"
      },
      "execution_count": null,
      "outputs": [
        {
          "output_type": "execute_result",
          "data": {
            "text/plain": [
              "{1, 2, 3, 4, 5}"
            ]
          },
          "metadata": {},
          "execution_count": 27
        }
      ]
    },
    {
      "cell_type": "markdown",
      "source": [
        "20. question no. 20"
      ],
      "metadata": {
        "id": "G_FGT2Z8v8Ut"
      }
    },
    {
      "cell_type": "code",
      "source": [
        "set2={1,2,3}\n",
        "set3={2,3,4}\n",
        "set2.intersection(set3)"
      ],
      "metadata": {
        "colab": {
          "base_uri": "https://localhost:8080/"
        },
        "id": "7zZJo5RUv_Dr",
        "outputId": "43b11052-c6df-4828-cc76-a0ab1a518522"
      },
      "execution_count": null,
      "outputs": [
        {
          "output_type": "execute_result",
          "data": {
            "text/plain": [
              "{2, 3}"
            ]
          },
          "metadata": {},
          "execution_count": 28
        }
      ]
    },
    {
      "cell_type": "markdown",
      "source": [
        "21. question no. 21"
      ],
      "metadata": {
        "id": "QwaOKztZwZ9l"
      }
    },
    {
      "cell_type": "code",
      "source": [
        "dict={'name':'aditya','age':20,'city':'indore'}\n",
        "print(dict)"
      ],
      "metadata": {
        "colab": {
          "base_uri": "https://localhost:8080/"
        },
        "id": "McejkS9twdyn",
        "outputId": "21d6a0e9-4aa9-4870-b2ff-e10e32e838e8"
      },
      "execution_count": null,
      "outputs": [
        {
          "output_type": "stream",
          "name": "stdout",
          "text": [
            "{'name': 'aditya', 'age': 20, 'city': 'indore'}\n"
          ]
        }
      ]
    },
    {
      "cell_type": "markdown",
      "source": [
        "22. question no. 22"
      ],
      "metadata": {
        "id": "dIJkn60JxZnD"
      }
    },
    {
      "cell_type": "code",
      "source": [
        "dict={'name':'john','age':25}\n",
        "dict.update({'city':'new york'})\n",
        "print(dict)"
      ],
      "metadata": {
        "colab": {
          "base_uri": "https://localhost:8080/"
        },
        "id": "3BfEGUBOxdlT",
        "outputId": "bb5ec5a3-9984-4eac-c81c-93a13ffe8dff"
      },
      "execution_count": null,
      "outputs": [
        {
          "output_type": "stream",
          "name": "stdout",
          "text": [
            "{'name': 'john', 'age': 25, 'city': 'new york'}\n"
          ]
        }
      ]
    },
    {
      "cell_type": "markdown",
      "source": [
        "23. question no. 23"
      ],
      "metadata": {
        "id": "8qTsAEnb-pQ-"
      }
    },
    {
      "cell_type": "code",
      "source": [
        "dict={'name':'alice','age':30}\n",
        "dict['name']"
      ],
      "metadata": {
        "colab": {
          "base_uri": "https://localhost:8080/",
          "height": 36
        },
        "id": "Js7e6ds0-vY3",
        "outputId": "bd71b6e8-4753-41d7-ad78-1af4a82d54ee"
      },
      "execution_count": null,
      "outputs": [
        {
          "output_type": "execute_result",
          "data": {
            "text/plain": [
              "'alice'"
            ],
            "application/vnd.google.colaboratory.intrinsic+json": {
              "type": "string"
            }
          },
          "metadata": {},
          "execution_count": 31
        }
      ]
    },
    {
      "cell_type": "markdown",
      "source": [
        "24. question no. 24"
      ],
      "metadata": {
        "id": "iB6v--Jh_MXB"
      }
    },
    {
      "cell_type": "code",
      "source": [
        "dict={'name':'bob','age':22,'city':'new york'}\n",
        "dict.pop('age')\n",
        "print(dict)"
      ],
      "metadata": {
        "colab": {
          "base_uri": "https://localhost:8080/"
        },
        "id": "Ej2I1USZ_QIi",
        "outputId": "24ce7f3a-93d9-4b81-dced-58817e23bc4c"
      },
      "execution_count": null,
      "outputs": [
        {
          "output_type": "stream",
          "name": "stdout",
          "text": [
            "{'name': 'bob', 'city': 'new york'}\n"
          ]
        }
      ]
    },
    {
      "cell_type": "markdown",
      "source": [
        "25. qustion no. 25"
      ],
      "metadata": {
        "id": "yYbypRA3AntV"
      }
    },
    {
      "cell_type": "code",
      "source": [
        "dict={'name':'alice','city':'paris'}\n",
        "dict.get('city')"
      ],
      "metadata": {
        "colab": {
          "base_uri": "https://localhost:8080/",
          "height": 36
        },
        "id": "mHaXBpH-Bduw",
        "outputId": "23eb4078-0600-4a2a-a7d4-06178f07b5ef"
      },
      "execution_count": null,
      "outputs": [
        {
          "output_type": "execute_result",
          "data": {
            "text/plain": [
              "'paris'"
            ],
            "application/vnd.google.colaboratory.intrinsic+json": {
              "type": "string"
            }
          },
          "metadata": {},
          "execution_count": 40
        }
      ]
    },
    {
      "cell_type": "markdown",
      "source": [
        "26. question no. 26"
      ],
      "metadata": {
        "id": "hDXaghSIB5a_"
      }
    },
    {
      "cell_type": "code",
      "source": [
        "list=[1,2,3,4,5]\n",
        "tuple=(7,8,9,6)\n",
        "dict={'a':list,'b':tuple}\n",
        "print(dict)\n",
        "print(list)\n",
        "print(tuple)"
      ],
      "metadata": {
        "colab": {
          "base_uri": "https://localhost:8080/"
        },
        "id": "2JpT3dSyB77z",
        "outputId": "a236f258-2dd1-4c60-db46-94066458f2a8"
      },
      "execution_count": null,
      "outputs": [
        {
          "output_type": "stream",
          "name": "stdout",
          "text": [
            "{'a': [1, 2, 3, 4, 5], 'b': (7, 8, 9, 6)}\n",
            "[1, 2, 3, 4, 5]\n",
            "(7, 8, 9, 6)\n"
          ]
        }
      ]
    },
    {
      "cell_type": "markdown",
      "source": [
        "27. question no. 27"
      ],
      "metadata": {
        "id": "EMHYmIrbCfFK"
      }
    },
    {
      "cell_type": "code",
      "source": [
        "list=[33,22,77,66,99]\n",
        "list.sort()\n",
        "print(list)"
      ],
      "metadata": {
        "colab": {
          "base_uri": "https://localhost:8080/"
        },
        "id": "lfshU-gTCqmo",
        "outputId": "f34a7444-fe6f-413a-ef7a-621d315dc25b"
      },
      "execution_count": null,
      "outputs": [
        {
          "output_type": "stream",
          "name": "stdout",
          "text": [
            "[22, 33, 66, 77, 99]\n"
          ]
        }
      ]
    },
    {
      "cell_type": "markdown",
      "source": [
        "28. question no. 28"
      ],
      "metadata": {
        "id": "-Q8WCfd-DoAJ"
      }
    },
    {
      "cell_type": "code",
      "source": [
        "list=['aditya','rohan','shubham','rohit','arya']\n",
        "list[3]"
      ],
      "metadata": {
        "colab": {
          "base_uri": "https://localhost:8080/",
          "height": 36
        },
        "id": "_-NHn5AyDrOP",
        "outputId": "28bca746-5593-4f94-a80d-7cc89c261518"
      },
      "execution_count": null,
      "outputs": [
        {
          "output_type": "execute_result",
          "data": {
            "text/plain": [
              "'rohit'"
            ],
            "application/vnd.google.colaboratory.intrinsic+json": {
              "type": "string"
            }
          },
          "metadata": {},
          "execution_count": 52
        }
      ]
    },
    {
      "cell_type": "markdown",
      "source": [
        "29. question no 29"
      ],
      "metadata": {
        "id": "yM_pbwwpE3AR"
      }
    },
    {
      "cell_type": "code",
      "source": [
        "dict1={'name':'aditya','age':20}\n",
        "dict2={'city':'indore','state':'madhya pradesh'}\n",
        "dict1.update(dict2)\n",
        "print(dict1)"
      ],
      "metadata": {
        "colab": {
          "base_uri": "https://localhost:8080/"
        },
        "id": "Gb414tE3E5KI",
        "outputId": "889e58b0-712e-47fc-b996-01ddfac82a1c"
      },
      "execution_count": null,
      "outputs": [
        {
          "output_type": "stream",
          "name": "stdout",
          "text": [
            "{'name': 'aditya', 'age': 20, 'city': 'indore', 'state': 'madhya pradesh'}\n"
          ]
        }
      ]
    },
    {
      "cell_type": "markdown",
      "source": [
        "30. question no 30"
      ],
      "metadata": {
        "id": "GPLIuqQFFbgH"
      }
    },
    {
      "cell_type": "code",
      "source": [
        "list7=['horse','rat','lion','tiger','moose']\n",
        "x=set(list7)\n",
        "print(x)\n"
      ],
      "metadata": {
        "colab": {
          "base_uri": "https://localhost:8080/"
        },
        "id": "xWfOXADUFe-v",
        "outputId": "f512daf0-3e3e-4488-881a-d79676f0ebde"
      },
      "execution_count": 2,
      "outputs": [
        {
          "output_type": "stream",
          "name": "stdout",
          "text": [
            "{'horse', 'lion', 'moose', 'rat', 'tiger'}\n"
          ]
        }
      ]
    },
    {
      "cell_type": "markdown",
      "source": [
        "#Theory questions\n"
      ],
      "metadata": {
        "id": "3_V0_W3QzUDX"
      }
    },
    {
      "cell_type": "markdown",
      "source": [
        "**ans 1** - data structures are a way to organize data and store data so it can be accessed and modified/retrieved efficiently.\n",
        "IMPORTANCE\n",
        "-efficiently manage data\n",
        "-optimize code\n",
        "-handle information\n",
        "\n",
        "**ans 2** -mutable data is type of data which be modified and immutable data is a type which cannot be modified.ex- list and sets can be modified but tuples cannot be modified(it can only be indexed and sliced).\n",
        "\n",
        "**ans 3** -1. lists are mutable whereas tuples are immutable\n",
        "2. lists are formed in [] brackets whereas tuples in () brackets.\n",
        "3.list is dynamic whereas tuples are static.\n",
        "\n",
        "**ans 4** -dictionaries stores data using a formation of keys and values.ex-dict={'city':'indore'} , city is key and indore is value.\n",
        "\n",
        "**ans 5** -1. sets can perform operations like unions and intersection.\n",
        "2.sets remove duplicate values unlike lists.\n",
        "\n",
        "**ans 6** - a string is a sequence of characters between single and double quotes . a lists is a sequence of items , where each item could be anything ( an integer , a float , a string , etc ) .\n",
        "\n",
        "**ans 7** -tuples ensures data integrity because they are immutable.\n",
        "\n",
        "**ans 8** -a hash table stores key - vak=lue pairs , where the key is generated by a hash function . in python , the dictionary data types represent the implementation of hash tables .\n",
        "\n",
        "**ans 9** -yes , a list can also contain a mix of python types including strings , floats , and , booleans ( although it's not really commom ) .\n",
        "\n",
        "**ans 10** -strings are immutable so that their content cannot be altered .\n",
        "\n",
        "**ans 11** -dictionaries stores data in a key:value pair , dictionaries are more easier to read and easier to find a specific element in dictionaries .\n",
        "\n",
        "**ans 12** -if i want to create a information about ten numbers which are less than 50 and i don't want the information to be altered , in that scenerio i'll use a tuple over a list .\n",
        "\n",
        "**ans 13**-sets dont take the duplicate values , unlike lists.\n",
        "\n",
        "**ans 14** -in lists it gives the elements but in dictionaries it gives the keys.\n",
        "\n",
        "**ans 15** -you cannot modify elements in tuples as they immutable .\n",
        "\n",
        "**ans 16** -dictionaries that are stored as values within another dictionary are called nested dictionaries . example :dict = {\n",
        "  \"a\":{\"name\":\"adi\",\n",
        "  \"age\":25 }}\n",
        "\n",
        " **ans 17** - it means what time it takes to find a key in a dictionary\n",
        "\n",
        "**ans 18** -lists are preferred over dictionaries in situations where we need an ordered collection , like a sequence of usr actions .\n",
        "\n",
        "**ans 19** -it does not maintain a specific order when storig key - value pairs. it affects data retrieval due to consistent iteration and no reliance on index .\n",
        "\n",
        "**ans 20** - a list is an ordered collection of items , whereas a dictionary is an unordered data collection in a key : value pair . elements from the list can be accessed using the index , while the elements of dictionary can be accessed using keys .  "
      ],
      "metadata": {
        "id": "UGNHGniH4cu-"
      }
    }
  ]
}